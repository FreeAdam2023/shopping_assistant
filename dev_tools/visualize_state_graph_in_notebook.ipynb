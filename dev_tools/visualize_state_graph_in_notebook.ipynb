{
 "cells": [
  {
   "cell_type": "code",
   "execution_count": 19,
   "id": "initial_id",
   "metadata": {
    "collapsed": true,
    "ExecuteTime": {
     "end_time": "2024-11-15T23:58:47.444436Z",
     "start_time": "2024-11-15T23:58:47.420315Z"
    }
   },
   "outputs": [
    {
     "ename": "TypeError",
     "evalue": "Expected <class 'assistants.product_assistant.ProductAssistant'> to return a callable, but got <class 'assistants.product_assistant.ProductAssistant'>",
     "output_type": "error",
     "traceback": [
      "\u001B[0;31m---------------------------------------------------------------------------\u001B[0m",
      "\u001B[0;31mTypeError\u001B[0m                                 Traceback (most recent call last)",
      "Cell \u001B[0;32mIn[19], line 1\u001B[0m\n\u001B[0;32m----> 1\u001B[0m \u001B[38;5;28;01mfrom\u001B[39;00m \u001B[38;5;21;01mstate\u001B[39;00m\u001B[38;5;21;01m.\u001B[39;00m\u001B[38;5;21;01mstate_graph\u001B[39;00m \u001B[38;5;28;01mimport\u001B[39;00m graph\n\u001B[1;32m      2\u001B[0m \u001B[38;5;28;01mfrom\u001B[39;00m \u001B[38;5;21;01mIPython\u001B[39;00m\u001B[38;5;21;01m.\u001B[39;00m\u001B[38;5;21;01mdisplay\u001B[39;00m \u001B[38;5;28;01mimport\u001B[39;00m Image, display\n\u001B[1;32m      4\u001B[0m \u001B[38;5;28;01mtry\u001B[39;00m:\n\u001B[1;32m      5\u001B[0m     \u001B[38;5;66;03m# 尝试生成并直接显示状态图\u001B[39;00m\n",
      "File \u001B[0;32m~/PycharmProjects/shopping_assistant/state/state_graph.py:57\u001B[0m\n\u001B[1;32m     55\u001B[0m assistant_instance \u001B[38;5;241m=\u001B[39m config[\u001B[38;5;124m\"\u001B[39m\u001B[38;5;124massistant_class\u001B[39m\u001B[38;5;124m\"\u001B[39m]()\n\u001B[1;32m     56\u001B[0m \u001B[38;5;28;01mif\u001B[39;00m \u001B[38;5;129;01mnot\u001B[39;00m \u001B[38;5;28mcallable\u001B[39m(assistant_instance):\n\u001B[0;32m---> 57\u001B[0m     \u001B[38;5;28;01mraise\u001B[39;00m \u001B[38;5;167;01mTypeError\u001B[39;00m(\n\u001B[1;32m     58\u001B[0m         \u001B[38;5;124mf\u001B[39m\u001B[38;5;124m\"\u001B[39m\u001B[38;5;124mExpected \u001B[39m\u001B[38;5;132;01m{\u001B[39;00mconfig[\u001B[38;5;124m'\u001B[39m\u001B[38;5;124massistant_class\u001B[39m\u001B[38;5;124m'\u001B[39m]\u001B[38;5;132;01m}\u001B[39;00m\u001B[38;5;124m to return a callable, but got \u001B[39m\u001B[38;5;132;01m{\u001B[39;00m\u001B[38;5;28mtype\u001B[39m(assistant_instance)\u001B[38;5;132;01m}\u001B[39;00m\u001B[38;5;124m\"\u001B[39m\n\u001B[1;32m     59\u001B[0m     )\n\u001B[1;32m     61\u001B[0m \u001B[38;5;66;03m# 添加助手节点\u001B[39;00m\n\u001B[1;32m     62\u001B[0m builder\u001B[38;5;241m.\u001B[39madd_node(config[\u001B[38;5;124m\"\u001B[39m\u001B[38;5;124mnode_name\u001B[39m\u001B[38;5;124m\"\u001B[39m], assistant_instance)\n",
      "\u001B[0;31mTypeError\u001B[0m: Expected <class 'assistants.product_assistant.ProductAssistant'> to return a callable, but got <class 'assistants.product_assistant.ProductAssistant'>"
     ]
    }
   ],
   "source": [
    "from state.state_graph import graph\n",
    "from IPython.display import Image, display\n",
    "\n",
    "try:\n",
    "    # 尝试生成并直接显示状态图\n",
    "    display(Image(graph.get_graph(xray=True).draw_mermaid_png()))\n",
    "except Exception as e:\n",
    "    # 如果失败则提示用户\n",
    "    print(\"Graph visualization failed. This might require additional dependencies like 'pygraphviz'.\")\n",
    "    print(f\"Error: {e}\")\n"
   ]
  },
  {
   "cell_type": "code",
   "execution_count": 16,
   "outputs": [],
   "source": [],
   "metadata": {
    "collapsed": false,
    "ExecuteTime": {
     "end_time": "2024-11-15T23:58:27.712623Z",
     "start_time": "2024-11-15T23:58:27.710113Z"
    }
   },
   "id": "e684c088ddeb2afb"
  },
  {
   "cell_type": "code",
   "execution_count": null,
   "outputs": [],
   "source": [],
   "metadata": {
    "collapsed": false
   },
   "id": "85ae0486a0a568fc"
  }
 ],
 "metadata": {
  "kernelspec": {
   "display_name": "Python 3",
   "language": "python",
   "name": "python3"
  },
  "language_info": {
   "codemirror_mode": {
    "name": "ipython",
    "version": 2
   },
   "file_extension": ".py",
   "mimetype": "text/x-python",
   "name": "python",
   "nbconvert_exporter": "python",
   "pygments_lexer": "ipython2",
   "version": "2.7.6"
  }
 },
 "nbformat": 4,
 "nbformat_minor": 5
}
