{
 "cells": [
  {
   "cell_type": "code",
   "execution_count": 9,
   "id": "initial_id",
   "metadata": {
    "collapsed": true,
    "ExecuteTime": {
     "end_time": "2024-11-15T23:21:01.060627Z",
     "start_time": "2024-11-15T23:21:00.906832Z"
    }
   },
   "outputs": [
    {
     "ename": "TypeError",
     "evalue": "Expected a Runnable, callable or dict.Instead got an unsupported type: <class 'assistants.product_assistant.ProductAssistant'>",
     "output_type": "error",
     "traceback": [
      "\u001B[0;31m---------------------------------------------------------------------------\u001B[0m",
      "\u001B[0;31mTypeError\u001B[0m                                 Traceback (most recent call last)",
      "Cell \u001B[0;32mIn[9], line 1\u001B[0m\n\u001B[0;32m----> 1\u001B[0m \u001B[38;5;28;01mfrom\u001B[39;00m \u001B[38;5;21;01mstate\u001B[39;00m\u001B[38;5;21;01m.\u001B[39;00m\u001B[38;5;21;01mstate_graph\u001B[39;00m \u001B[38;5;28;01mimport\u001B[39;00m graph\n\u001B[1;32m      2\u001B[0m \u001B[38;5;28;01mfrom\u001B[39;00m \u001B[38;5;21;01mIPython\u001B[39;00m\u001B[38;5;21;01m.\u001B[39;00m\u001B[38;5;21;01mdisplay\u001B[39;00m \u001B[38;5;28;01mimport\u001B[39;00m Image, display\n\u001B[1;32m      4\u001B[0m \u001B[38;5;28;01mtry\u001B[39;00m:\n\u001B[1;32m      5\u001B[0m     \u001B[38;5;66;03m# 尝试生成并直接显示状态图\u001B[39;00m\n",
      "File \u001B[0;32m~/PycharmProjects/shopping_assistant/state/state_graph.py:53\u001B[0m\n\u001B[1;32m     48\u001B[0m builder\u001B[38;5;241m.\u001B[39madd_node(\n\u001B[1;32m     49\u001B[0m     \u001B[38;5;124mf\u001B[39m\u001B[38;5;124m\"\u001B[39m\u001B[38;5;124menter_\u001B[39m\u001B[38;5;132;01m{\u001B[39;00mkey\u001B[38;5;132;01m}\u001B[39;00m\u001B[38;5;124m\"\u001B[39m,\n\u001B[1;32m     50\u001B[0m     create_entry_node(config[\u001B[38;5;124m\"\u001B[39m\u001B[38;5;124mentry_name\u001B[39m\u001B[38;5;124m\"\u001B[39m], key),\n\u001B[1;32m     51\u001B[0m )\n\u001B[1;32m     52\u001B[0m \u001B[38;5;66;03m# 添加助手节点\u001B[39;00m\n\u001B[0;32m---> 53\u001B[0m \u001B[43mbuilder\u001B[49m\u001B[38;5;241;43m.\u001B[39;49m\u001B[43madd_node\u001B[49m\u001B[43m(\u001B[49m\u001B[43mconfig\u001B[49m\u001B[43m[\u001B[49m\u001B[38;5;124;43m\"\u001B[39;49m\u001B[38;5;124;43mnode_name\u001B[39;49m\u001B[38;5;124;43m\"\u001B[39;49m\u001B[43m]\u001B[49m\u001B[43m,\u001B[49m\u001B[43m \u001B[49m\u001B[43mconfig\u001B[49m\u001B[43m[\u001B[49m\u001B[38;5;124;43m\"\u001B[39;49m\u001B[38;5;124;43massistant_class\u001B[39;49m\u001B[38;5;124;43m\"\u001B[39;49m\u001B[43m]\u001B[49m\u001B[43m(\u001B[49m\u001B[43m)\u001B[49m\u001B[43m)\u001B[49m\n\u001B[1;32m     54\u001B[0m builder\u001B[38;5;241m.\u001B[39madd_edge(\u001B[38;5;124mf\u001B[39m\u001B[38;5;124m\"\u001B[39m\u001B[38;5;124menter_\u001B[39m\u001B[38;5;132;01m{\u001B[39;00mkey\u001B[38;5;132;01m}\u001B[39;00m\u001B[38;5;124m\"\u001B[39m, config[\u001B[38;5;124m\"\u001B[39m\u001B[38;5;124mnode_name\u001B[39m\u001B[38;5;124m\"\u001B[39m])\n\u001B[1;32m     56\u001B[0m \u001B[38;5;66;03m# 添加安全工具节点\u001B[39;00m\n",
      "File \u001B[0;32m~/PycharmProjects/shopping_assistant/venv/lib/python3.12/site-packages/langgraph/graph/state.py:401\u001B[0m, in \u001B[0;36mStateGraph.add_node\u001B[0;34m(self, node, action, metadata, input, retry)\u001B[0m\n\u001B[1;32m    398\u001B[0m \u001B[38;5;28;01mif\u001B[39;00m \u001B[38;5;28minput\u001B[39m \u001B[38;5;129;01mis\u001B[39;00m \u001B[38;5;129;01mnot\u001B[39;00m \u001B[38;5;28;01mNone\u001B[39;00m:\n\u001B[1;32m    399\u001B[0m     \u001B[38;5;28mself\u001B[39m\u001B[38;5;241m.\u001B[39m_add_schema(\u001B[38;5;28minput\u001B[39m)\n\u001B[1;32m    400\u001B[0m \u001B[38;5;28mself\u001B[39m\u001B[38;5;241m.\u001B[39mnodes[cast(\u001B[38;5;28mstr\u001B[39m, node)] \u001B[38;5;241m=\u001B[39m StateNodeSpec(\n\u001B[0;32m--> 401\u001B[0m     \u001B[43mcoerce_to_runnable\u001B[49m\u001B[43m(\u001B[49m\u001B[43maction\u001B[49m\u001B[43m,\u001B[49m\u001B[43m \u001B[49m\u001B[43mname\u001B[49m\u001B[38;5;241;43m=\u001B[39;49m\u001B[43mcast\u001B[49m\u001B[43m(\u001B[49m\u001B[38;5;28;43mstr\u001B[39;49m\u001B[43m,\u001B[49m\u001B[43m \u001B[49m\u001B[43mnode\u001B[49m\u001B[43m)\u001B[49m\u001B[43m,\u001B[49m\u001B[43m \u001B[49m\u001B[43mtrace\u001B[49m\u001B[38;5;241;43m=\u001B[39;49m\u001B[38;5;28;43;01mFalse\u001B[39;49;00m\u001B[43m)\u001B[49m,\n\u001B[1;32m    402\u001B[0m     metadata,\n\u001B[1;32m    403\u001B[0m     \u001B[38;5;28minput\u001B[39m\u001B[38;5;241m=\u001B[39m\u001B[38;5;28minput\u001B[39m \u001B[38;5;129;01mor\u001B[39;00m \u001B[38;5;28mself\u001B[39m\u001B[38;5;241m.\u001B[39mschema,\n\u001B[1;32m    404\u001B[0m     retry_policy\u001B[38;5;241m=\u001B[39mretry,\n\u001B[1;32m    405\u001B[0m     ends\u001B[38;5;241m=\u001B[39mends,\n\u001B[1;32m    406\u001B[0m )\n\u001B[1;32m    407\u001B[0m \u001B[38;5;28;01mreturn\u001B[39;00m \u001B[38;5;28mself\u001B[39m\n",
      "File \u001B[0;32m~/PycharmProjects/shopping_assistant/venv/lib/python3.12/site-packages/langgraph/utils/runnable.py:294\u001B[0m, in \u001B[0;36mcoerce_to_runnable\u001B[0;34m(thing, name, trace)\u001B[0m\n\u001B[1;32m    292\u001B[0m     \u001B[38;5;28;01mreturn\u001B[39;00m RunnableParallel(thing)\n\u001B[1;32m    293\u001B[0m \u001B[38;5;28;01melse\u001B[39;00m:\n\u001B[0;32m--> 294\u001B[0m     \u001B[38;5;28;01mraise\u001B[39;00m \u001B[38;5;167;01mTypeError\u001B[39;00m(\n\u001B[1;32m    295\u001B[0m         \u001B[38;5;124mf\u001B[39m\u001B[38;5;124m\"\u001B[39m\u001B[38;5;124mExpected a Runnable, callable or dict.\u001B[39m\u001B[38;5;124m\"\u001B[39m\n\u001B[1;32m    296\u001B[0m         \u001B[38;5;124mf\u001B[39m\u001B[38;5;124m\"\u001B[39m\u001B[38;5;124mInstead got an unsupported type: \u001B[39m\u001B[38;5;132;01m{\u001B[39;00m\u001B[38;5;28mtype\u001B[39m(thing)\u001B[38;5;132;01m}\u001B[39;00m\u001B[38;5;124m\"\u001B[39m\n\u001B[1;32m    297\u001B[0m     )\n",
      "\u001B[0;31mTypeError\u001B[0m: Expected a Runnable, callable or dict.Instead got an unsupported type: <class 'assistants.product_assistant.ProductAssistant'>"
     ]
    }
   ],
   "source": [
    "from state.state_graph import graph\n",
    "from IPython.display import Image, display\n",
    "\n",
    "try:\n",
    "    # 尝试生成并直接显示状态图\n",
    "    display(Image(graph.get_graph(xray=True).draw_mermaid_png()))\n",
    "except Exception as e:\n",
    "    # 如果失败则提示用户\n",
    "    print(\"Graph visualization failed. This might require additional dependencies like 'pygraphviz'.\")\n",
    "    print(f\"Error: {e}\")\n"
   ]
  },
  {
   "cell_type": "code",
   "execution_count": 3,
   "outputs": [],
   "source": [],
   "metadata": {
    "collapsed": false,
    "ExecuteTime": {
     "end_time": "2024-11-15T23:15:16.715059Z",
     "start_time": "2024-11-15T23:15:16.711053Z"
    }
   },
   "id": "e684c088ddeb2afb"
  },
  {
   "cell_type": "code",
   "execution_count": null,
   "outputs": [],
   "source": [],
   "metadata": {
    "collapsed": false
   },
   "id": "85ae0486a0a568fc"
  }
 ],
 "metadata": {
  "kernelspec": {
   "display_name": "Python 3",
   "language": "python",
   "name": "python3"
  },
  "language_info": {
   "codemirror_mode": {
    "name": "ipython",
    "version": 2
   },
   "file_extension": ".py",
   "mimetype": "text/x-python",
   "name": "python",
   "nbconvert_exporter": "python",
   "pygments_lexer": "ipython2",
   "version": "2.7.6"
  }
 },
 "nbformat": 4,
 "nbformat_minor": 5
}
